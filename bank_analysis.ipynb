{
 "cells": [
  {
   "cell_type": "code",
   "execution_count": 1,
   "metadata": {},
   "outputs": [],
   "source": [
    "from BankParser import get_data"
   ]
  },
  {
   "cell_type": "code",
   "execution_count": 3,
   "metadata": {},
   "outputs": [],
   "source": [
    "path = './'\n",
    "pattern_path = './patterns.json'\n",
    "\n",
    "df = get_data(path, pattern_path)"
   ]
  },
  {
   "cell_type": "code",
   "execution_count": 4,
   "metadata": {},
   "outputs": [
    {
     "data": {
      "text/html": [
       "<div>\n",
       "<style scoped>\n",
       "    .dataframe tbody tr th:only-of-type {\n",
       "        vertical-align: middle;\n",
       "    }\n",
       "\n",
       "    .dataframe tbody tr th {\n",
       "        vertical-align: top;\n",
       "    }\n",
       "\n",
       "    .dataframe thead th {\n",
       "        text-align: right;\n",
       "    }\n",
       "</style>\n",
       "<table border=\"1\" class=\"dataframe\">\n",
       "  <thead>\n",
       "    <tr style=\"text-align: right;\">\n",
       "      <th></th>\n",
       "      <th>bank</th>\n",
       "      <th>date</th>\n",
       "      <th>time</th>\n",
       "      <th>cost</th>\n",
       "      <th>category</th>\n",
       "      <th>filename</th>\n",
       "    </tr>\n",
       "  </thead>\n",
       "  <tbody>\n",
       "    <tr>\n",
       "      <th>0</th>\n",
       "      <td>sber</td>\n",
       "      <td>01.01.2024</td>\n",
       "      <td>08:52</td>\n",
       "      <td>15000.00</td>\n",
       "      <td>Прочие операции: Промсвязьбанк. Операция по ка...</td>\n",
       "      <td>сбер.pdf</td>\n",
       "    </tr>\n",
       "    <tr>\n",
       "      <th>1</th>\n",
       "      <td>sber</td>\n",
       "      <td>31.12.2023</td>\n",
       "      <td>09:24</td>\n",
       "      <td>20000.00</td>\n",
       "      <td>Прочие операции: Промсвязьбанк. Операция по ка...</td>\n",
       "      <td>сбер.pdf</td>\n",
       "    </tr>\n",
       "    <tr>\n",
       "      <th>2</th>\n",
       "      <td>sber</td>\n",
       "      <td>26.12.2023</td>\n",
       "      <td>17:51</td>\n",
       "      <td>-49.99</td>\n",
       "      <td>Супермаркеты: MAGNIT MM SHTORMOVOJ Gorod Moskv...</td>\n",
       "      <td>сбер.pdf</td>\n",
       "    </tr>\n",
       "    <tr>\n",
       "      <th>3</th>\n",
       "      <td>sber</td>\n",
       "      <td>26.12.2023</td>\n",
       "      <td>14:56</td>\n",
       "      <td>560.00</td>\n",
       "      <td>Прочие операции: Прочие выплаты. Операция по к...</td>\n",
       "      <td>сбер.pdf</td>\n",
       "    </tr>\n",
       "    <tr>\n",
       "      <th>4</th>\n",
       "      <td>sber</td>\n",
       "      <td>26.12.2023</td>\n",
       "      <td>01:52</td>\n",
       "      <td>-70.00</td>\n",
       "      <td>Прочие операции: MOBILE BANK: KOMISSIYA. Опера...</td>\n",
       "      <td>сбер.pdf</td>\n",
       "    </tr>\n",
       "  </tbody>\n",
       "</table>\n",
       "</div>"
      ],
      "text/plain": [
       "   bank        date   time      cost  \\\n",
       "0  sber  01.01.2024  08:52  15000.00   \n",
       "1  sber  31.12.2023  09:24  20000.00   \n",
       "2  sber  26.12.2023  17:51    -49.99   \n",
       "3  sber  26.12.2023  14:56    560.00   \n",
       "4  sber  26.12.2023  01:52    -70.00   \n",
       "\n",
       "                                            category  filename  \n",
       "0  Прочие операции: Промсвязьбанк. Операция по ка...  сбер.pdf  \n",
       "1  Прочие операции: Промсвязьбанк. Операция по ка...  сбер.pdf  \n",
       "2  Супермаркеты: MAGNIT MM SHTORMOVOJ Gorod Moskv...  сбер.pdf  \n",
       "3  Прочие операции: Прочие выплаты. Операция по к...  сбер.pdf  \n",
       "4  Прочие операции: MOBILE BANK: KOMISSIYA. Опера...  сбер.pdf  "
      ]
     },
     "execution_count": 4,
     "metadata": {},
     "output_type": "execute_result"
    }
   ],
   "source": [
    "df.head()"
   ]
  }
 ],
 "metadata": {
  "kernelspec": {
   "display_name": "Python 3",
   "language": "python",
   "name": "python3"
  },
  "language_info": {
   "codemirror_mode": {
    "name": "ipython",
    "version": 3
   },
   "file_extension": ".py",
   "mimetype": "text/x-python",
   "name": "python",
   "nbconvert_exporter": "python",
   "pygments_lexer": "ipython3",
   "version": "3.12.3"
  }
 },
 "nbformat": 4,
 "nbformat_minor": 2
}
